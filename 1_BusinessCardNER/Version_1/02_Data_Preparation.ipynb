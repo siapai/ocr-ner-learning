{
 "cells": [
  {
   "cell_type": "code",
   "execution_count": 34,
   "id": "initial_id",
   "metadata": {
    "collapsed": true,
    "ExecuteTime": {
     "end_time": "2024-07-02T04:22:27.059908Z",
     "start_time": "2024-07-02T04:22:27.055068Z"
    }
   },
   "outputs": [],
   "source": [
    "import numpy as np\n",
    "import pandas as pd\n",
    "import cv2\n",
    "import pytesseract\n",
    "import matplotlib.pyplot as plt\n",
    "\n",
    "import os\n",
    "from glob import glob\n",
    "from tqdm import tqdm\n",
    "\n",
    "import warnings\n",
    "warnings.filterwarnings(\"ignore\")"
   ]
  },
  {
   "cell_type": "code",
   "outputs": [
    {
     "name": "stdout",
     "output_type": "stream",
     "text": [
      "['./Selected/000.jpeg', './Selected/001.jpeg', './Selected/002.jpeg', './Selected/003.jpeg', './Selected/004.jpeg', './Selected/005.jpeg', './Selected/006.jpeg', './Selected/007.jpeg', './Selected/008.jpeg', './Selected/009.jpeg', './Selected/010.jpeg', './Selected/011.jpeg', './Selected/012.jpeg', './Selected/013.jpeg', './Selected/014.jpeg', './Selected/015.jpeg', './Selected/016.jpeg', './Selected/017.jpeg', './Selected/018.jpeg', './Selected/019.jpeg', './Selected/020.jpeg', './Selected/021.jpeg', './Selected/022.jpeg', './Selected/023.jpeg', './Selected/024.jpeg', './Selected/025.jpeg', './Selected/026.jpeg', './Selected/027.jpeg', './Selected/028.jpeg', './Selected/029.jpeg', './Selected/030.jpeg', './Selected/031.jpeg', './Selected/032.jpeg', './Selected/033.jpeg', './Selected/034.jpeg', './Selected/035.jpeg', './Selected/036.jpeg', './Selected/037.jpeg', './Selected/038.jpeg', './Selected/039.jpeg', './Selected/040.jpeg', './Selected/041.jpeg', './Selected/042.jpeg', './Selected/043.jpeg', './Selected/044.jpeg', './Selected/045.jpeg', './Selected/046.jpeg', './Selected/047.jpeg', './Selected/048.jpeg', './Selected/049.jpeg', './Selected/050.jpeg', './Selected/051.jpeg', './Selected/052.jpeg', './Selected/053.jpeg', './Selected/054.jpeg', './Selected/055.jpeg', './Selected/056.jpeg', './Selected/057.jpeg', './Selected/058.jpeg', './Selected/059.jpeg', './Selected/060.jpeg', './Selected/061.jpeg', './Selected/062.jpeg', './Selected/063.jpeg', './Selected/064.jpeg', './Selected/065.jpeg', './Selected/066.jpeg', './Selected/067.jpeg', './Selected/068.jpeg', './Selected/069.jpeg', './Selected/070.jpeg', './Selected/071.jpeg', './Selected/072.jpeg', './Selected/073.jpeg', './Selected/074.jpeg', './Selected/075.jpeg', './Selected/076.jpeg', './Selected/077.jpeg', './Selected/078.jpeg', './Selected/079.jpeg', './Selected/080.jpeg', './Selected/081.jpeg', './Selected/082.jpeg', './Selected/083.jpeg', './Selected/084.jpeg', './Selected/085.jpeg', './Selected/086.jpeg', './Selected/087.jpeg', './Selected/088.jpeg', './Selected/089.jpeg', './Selected/090.jpeg', './Selected/091.jpeg', './Selected/092.jpeg', './Selected/093.jpeg', './Selected/094.jpeg', './Selected/095.jpeg', './Selected/096.jpeg', './Selected/097.jpeg', './Selected/098.jpeg', './Selected/099.jpeg', './Selected/100.jpeg', './Selected/101.jpeg', './Selected/102.jpeg', './Selected/103.jpeg', './Selected/104.jpeg', './Selected/105.jpeg', './Selected/106.jpeg', './Selected/107.jpeg', './Selected/108.jpeg', './Selected/109.jpeg', './Selected/110.jpeg', './Selected/111.jpeg', './Selected/112.jpeg', './Selected/113.jpeg', './Selected/114.jpeg', './Selected/115.jpeg', './Selected/116.jpeg', './Selected/117.jpeg', './Selected/118.jpeg', './Selected/119.jpeg', './Selected/120.jpeg', './Selected/121.jpeg', './Selected/122.jpeg', './Selected/123.jpeg', './Selected/124.jpeg', './Selected/125.jpeg', './Selected/126.jpeg', './Selected/127.jpeg', './Selected/128.jpeg', './Selected/129.jpeg', './Selected/130.jpeg', './Selected/131.jpeg', './Selected/132.jpeg', './Selected/133.jpeg', './Selected/134.jpeg', './Selected/135.jpeg', './Selected/136.jpeg', './Selected/137.jpeg', './Selected/138.jpeg', './Selected/139.jpeg', './Selected/140.jpeg', './Selected/141.jpeg', './Selected/142.jpeg', './Selected/143.jpeg', './Selected/144.jpeg', './Selected/145.jpeg', './Selected/146.jpeg', './Selected/147.jpeg', './Selected/148.jpeg', './Selected/149.jpeg', './Selected/150.jpeg', './Selected/151.jpeg', './Selected/152.jpeg', './Selected/153.jpeg', './Selected/154.jpeg', './Selected/155.jpeg', './Selected/156.jpeg', './Selected/157.jpeg', './Selected/158.jpeg', './Selected/159.jpeg', './Selected/160.jpeg', './Selected/161.jpeg', './Selected/162.jpeg', './Selected/163.jpeg', './Selected/164.jpeg', './Selected/165.jpeg', './Selected/166.jpeg', './Selected/167.jpeg', './Selected/168.jpeg', './Selected/169.jpeg', './Selected/170.jpeg', './Selected/171.jpeg', './Selected/172.jpeg', './Selected/173.jpeg', './Selected/174.jpeg', './Selected/175.jpeg', './Selected/176.jpeg', './Selected/177.jpeg', './Selected/178.jpeg', './Selected/179.jpeg', './Selected/180.jpeg', './Selected/181.jpeg', './Selected/182.jpeg', './Selected/183.jpeg', './Selected/184.jpeg', './Selected/185.jpeg', './Selected/186.jpeg', './Selected/187.jpeg', './Selected/188.jpeg', './Selected/189.jpeg', './Selected/190.jpeg', './Selected/191.jpeg', './Selected/192.jpeg', './Selected/193.jpeg', './Selected/194.jpeg', './Selected/195.jpeg', './Selected/196.jpeg', './Selected/197.jpeg', './Selected/198.jpeg', './Selected/199.jpeg', './Selected/200.jpeg', './Selected/201.jpeg', './Selected/202.jpeg', './Selected/203.jpeg', './Selected/204.jpeg', './Selected/205.jpeg', './Selected/206.jpeg', './Selected/207.jpeg', './Selected/208.jpeg', './Selected/209.jpeg', './Selected/210.jpeg', './Selected/211.jpeg', './Selected/212.jpeg', './Selected/213.jpeg', './Selected/214.jpeg', './Selected/215.jpeg', './Selected/216.jpeg', './Selected/217.jpeg', './Selected/218.jpeg', './Selected/219.jpeg', './Selected/220.jpeg', './Selected/221.jpeg', './Selected/222.jpeg', './Selected/223.jpeg', './Selected/224.jpeg', './Selected/225.jpeg', './Selected/226.jpeg', './Selected/227.jpeg', './Selected/228.jpeg', './Selected/229.jpeg', './Selected/230.jpeg', './Selected/231.jpeg', './Selected/232.jpeg', './Selected/233.jpeg', './Selected/234.jpeg', './Selected/235.jpeg', './Selected/236.jpeg', './Selected/237.jpeg', './Selected/238.jpeg', './Selected/239.jpeg', './Selected/240.jpeg', './Selected/241.jpeg', './Selected/242.jpeg', './Selected/243.jpeg', './Selected/244.jpeg', './Selected/245.jpeg', './Selected/246.jpeg', './Selected/247.jpeg', './Selected/248.jpeg', './Selected/249.jpeg', './Selected/250.jpeg', './Selected/251.jpeg', './Selected/252.jpeg', './Selected/253.jpeg', './Selected/254.jpeg', './Selected/255.jpeg', './Selected/256.jpeg', './Selected/257.jpeg', './Selected/258.jpeg', './Selected/259.jpeg', './Selected/260.jpeg', './Selected/261.jpeg', './Selected/262.jpeg', './Selected/263.jpeg', './Selected/264.jpeg', './Selected/265.jpeg', './Selected/266.jpeg', './Selected/267.jpeg', './Selected/268.jpeg', './Selected/269.jpeg', './Selected/270.jpeg', './Selected/271.jpeg', './Selected/272.jpeg', './Selected/273.jpeg', './Selected/274.jpeg', './Selected/275.jpeg', './Selected/276.jpeg', './Selected/277.jpeg', './Selected/278.jpeg', './Selected/279.jpeg', './Selected/280.jpeg', './Selected/281.jpeg', './Selected/282.jpeg', './Selected/283.jpeg', './Selected/284.jpeg', './Selected/285.jpeg', './Selected/286.jpeg', './Selected/287.jpeg', './Selected/288.jpeg', './Selected/289.jpeg', './Selected/290.jpeg', './Selected/291.jpeg', './Selected/292.jpeg']\n"
     ]
    }
   ],
   "source": [
    "img_paths = sorted(glob('./Selected/*.jpeg'))\n",
    "print(img_paths)"
   ],
   "metadata": {
    "collapsed": false,
    "ExecuteTime": {
     "end_time": "2024-07-02T04:56:27.147554Z",
     "start_time": "2024-07-02T04:56:27.141121Z"
    }
   },
   "id": "ce992c595c152c2",
   "execution_count": 48
  },
  {
   "cell_type": "code",
   "outputs": [
    {
     "name": "stderr",
     "output_type": "stream",
     "text": [
      "Business Card: 100%|██████████| 293/293 [02:19<00:00,  2.10it/s]\n"
     ]
    }
   ],
   "source": [
    "all_business_card = pd.DataFrame(columns=['id', 'text'])\n",
    "\n",
    "for img_path in tqdm(img_paths, desc=\"Business Card\"):\n",
    "    _, filename = os.path.split(img_path)\n",
    "    img_cv = cv2.imread(img_path)\n",
    "    data = pytesseract.image_to_data(img_cv)\n",
    "    data_list = list(map(lambda x: x.split('\\t'), data.split('\\n')))\n",
    "    df = pd.DataFrame(data_list[1:], columns=data_list[0])\n",
    "    df.dropna(inplace=True)\n",
    "    \n",
    "    df['conf'] = df['conf'].astype(float).astype(int)\n",
    "    useful_data = df.query('conf >= 30')\n",
    "    \n",
    "    # Dataframe\n",
    "    business_card = pd.DataFrame()\n",
    "    business_card['text'] = useful_data['text']\n",
    "    business_card['id'] = filename\n",
    "    \n",
    "    # Concat\n",
    "    all_business_card = pd.concat((all_business_card, business_card))"
   ],
   "metadata": {
    "collapsed": false,
    "ExecuteTime": {
     "end_time": "2024-07-02T04:58:49.201815Z",
     "start_time": "2024-07-02T04:56:29.889414Z"
    }
   },
   "id": "9cc1a5cd65a8c62e",
   "execution_count": 49
  },
  {
   "cell_type": "code",
   "outputs": [],
   "source": [
    "all_business_card.to_csv('all_business_card.csv', index=False)"
   ],
   "metadata": {
    "collapsed": false,
    "ExecuteTime": {
     "end_time": "2024-07-02T04:39:17.931178Z",
     "start_time": "2024-07-02T04:39:17.907853Z"
    }
   },
   "id": "adb5daadc67f0fd0",
   "execution_count": 39
  },
  {
   "cell_type": "code",
   "outputs": [],
   "source": [],
   "metadata": {
    "collapsed": false,
    "ExecuteTime": {
     "end_time": "2024-07-02T04:22:27.926053Z",
     "start_time": "2024-07-02T04:22:27.923134Z"
    }
   },
   "id": "5b0adee186cff3d8",
   "execution_count": 36
  }
 ],
 "metadata": {
  "kernelspec": {
   "display_name": "Python 3",
   "language": "python",
   "name": "python3"
  },
  "language_info": {
   "codemirror_mode": {
    "name": "ipython",
    "version": 2
   },
   "file_extension": ".py",
   "mimetype": "text/x-python",
   "name": "python",
   "nbconvert_exporter": "python",
   "pygments_lexer": "ipython2",
   "version": "2.7.6"
  }
 },
 "nbformat": 4,
 "nbformat_minor": 5
}
